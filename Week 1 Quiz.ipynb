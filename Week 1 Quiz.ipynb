{
 "cells": [
  {
   "cell_type": "code",
   "execution_count": 1,
   "metadata": {},
   "outputs": [],
   "source": [
    "#!pip install statsmodels"
   ]
  },
  {
   "cell_type": "code",
   "execution_count": 15,
   "metadata": {},
   "outputs": [],
   "source": [
    "import matplotlib.pyplot as plt\n",
    "import numpy as np\n",
    "import pandas as pd\n",
    "import scipy\n",
    "import statsmodels.api as sm\n",
    "import seaborn as sns\n",
    "from sklearn.neighbors import NearestNeighbors\n",
    "from statsmodels.stats.outliers_influence import variance_inflation_factor\n",
    "from sklearn.preprocessing import StandardScaler"
   ]
  },
  {
   "cell_type": "code",
   "execution_count": 16,
   "metadata": {},
   "outputs": [],
   "source": [
    "df = pd.read_csv(\"homework_2.1.csv\")"
   ]
  },
  {
   "cell_type": "code",
   "execution_count": 17,
   "metadata": {},
   "outputs": [
    {
     "data": {
      "text/html": [
       "<div>\n",
       "<style scoped>\n",
       "    .dataframe tbody tr th:only-of-type {\n",
       "        vertical-align: middle;\n",
       "    }\n",
       "\n",
       "    .dataframe tbody tr th {\n",
       "        vertical-align: top;\n",
       "    }\n",
       "\n",
       "    .dataframe thead th {\n",
       "        text-align: right;\n",
       "    }\n",
       "</style>\n",
       "<table border=\"1\" class=\"dataframe\">\n",
       "  <thead>\n",
       "    <tr style=\"text-align: right;\">\n",
       "      <th></th>\n",
       "      <th>time</th>\n",
       "      <th>G1</th>\n",
       "      <th>G2</th>\n",
       "      <th>G3</th>\n",
       "    </tr>\n",
       "  </thead>\n",
       "  <tbody>\n",
       "    <tr>\n",
       "      <th>0</th>\n",
       "      <td>0</td>\n",
       "      <td>0.882026</td>\n",
       "      <td>1.441575</td>\n",
       "      <td>0.065409</td>\n",
       "    </tr>\n",
       "    <tr>\n",
       "      <th>1</th>\n",
       "      <td>1</td>\n",
       "      <td>0.210079</td>\n",
       "      <td>-0.163880</td>\n",
       "      <td>0.140310</td>\n",
       "    </tr>\n",
       "    <tr>\n",
       "      <th>2</th>\n",
       "      <td>2</td>\n",
       "      <td>0.509369</td>\n",
       "      <td>-0.115242</td>\n",
       "      <td>0.819830</td>\n",
       "    </tr>\n",
       "    <tr>\n",
       "      <th>3</th>\n",
       "      <td>3</td>\n",
       "      <td>1.150447</td>\n",
       "      <td>1.014698</td>\n",
       "      <td>0.607632</td>\n",
       "    </tr>\n",
       "    <tr>\n",
       "      <th>4</th>\n",
       "      <td>4</td>\n",
       "      <td>0.973779</td>\n",
       "      <td>-0.046562</td>\n",
       "      <td>0.610066</td>\n",
       "    </tr>\n",
       "  </tbody>\n",
       "</table>\n",
       "</div>"
      ],
      "text/plain": [
       "   time        G1        G2        G3\n",
       "0     0  0.882026  1.441575  0.065409\n",
       "1     1  0.210079 -0.163880  0.140310\n",
       "2     2  0.509369 -0.115242  0.819830\n",
       "3     3  1.150447  1.014698  0.607632\n",
       "4     4  0.973779 -0.046562  0.610066"
      ]
     },
     "execution_count": 17,
     "metadata": {},
     "output_type": "execute_result"
    }
   ],
   "source": [
    "df.head()"
   ]
  },
  {
   "cell_type": "markdown",
   "metadata": {},
   "source": [
    "For questions 1 and 2: \n",
    "\n",
    "Do a regression to estimate the fixed effect of each group. We assume that there is one single linear coefficient for all the data, plus the fixed effect of each group. Use the file homework_2.1.csv.  The variables G1, G2, and G3 are the outcomes and the time is the treatment.\n",
    "\n",
    "Question 1\n",
    "Which of these is closest to being the coefficient of group 1? \n",
    "\n",
    "Option A\n",
    "0.00850\n",
    "\n",
    "Option B\n",
    "0.00485\n",
    "\n",
    "Option C\n",
    "0.1823 \n",
    "\n",
    "Option D\n",
    "0.01023 \n",
    "\n"
   ]
  },
  {
   "cell_type": "code",
   "execution_count": 18,
   "metadata": {},
   "outputs": [
    {
     "name": "stdout",
     "output_type": "stream",
     "text": [
      "const    0.104236\n",
      "time     0.008498\n",
      "dtype: float64\n"
     ]
    }
   ],
   "source": [
    "# Use only Group 1 data\n",
    "X = df[\"time\"]\n",
    "Y = df[\"G1\"]\n",
    "\n",
    "# Add constant (intercept)\n",
    "X_with_const = sm.add_constant(X)\n",
    "\n",
    "# Fit OLS\n",
    "model = sm.OLS(Y, X_with_const).fit()\n",
    "\n",
    "# Show results\n",
    "print(model.params)"
   ]
  },
  {
   "cell_type": "code",
   "execution_count": 20,
   "metadata": {},
   "outputs": [
    {
     "name": "stdout",
     "output_type": "stream",
     "text": [
      "Intercept (Group 1 fixed effect): 0.104235723914613\n",
      "Coefficient on time, slope: 0.008498349168750093\n"
     ]
    }
   ],
   "source": [
    "import pandas as pd\n",
    "from sklearn.linear_model import LinearRegression\n",
    "\n",
    "\n",
    "# Extract time and G1 only\n",
    "X = df[[\"time\"]]   # make sure it's 2D\n",
    "y = df[\"G1\"]\n",
    "\n",
    "# Fit the model\n",
    "model = LinearRegression()\n",
    "model.fit(X, y)\n",
    "\n",
    "# Print intercept and slope (coefficient on time)\n",
    "print(\"Intercept (Group 1 fixed effect):\", model.intercept_)\n",
    "print(\"Coefficient on time, slope:\", model.coef_[0])\n"
   ]
  },
  {
   "cell_type": "markdown",
   "metadata": {},
   "source": []
  },
  {
   "cell_type": "markdown",
   "metadata": {},
   "source": [
    "Which of these is closest to being the common linear coefficient for all groups?\n",
    "\n",
    "Option A\n",
    "0.01120 \n",
    "\n",
    "Option B\n",
    "0.01003\n",
    "\n",
    "Option C\n",
    "0.009017 \n",
    "\n",
    "Option D\n",
    "0.2808 "
   ]
  },
  {
   "cell_type": "code",
   "execution_count": 22,
   "metadata": {},
   "outputs": [
    {
     "name": "stdout",
     "output_type": "stream",
     "text": [
      "Common linear coefficient (slope on time): 0.009017213376688272\n"
     ]
    }
   ],
   "source": [
    "import pandas as pd\n",
    "import numpy as np\n",
    "from sklearn.linear_model import LinearRegression\n",
    "\n",
    "\n",
    "# Step 1: Stack the outcomes into a single Y array\n",
    "Y = np.hstack([df[\"G1\"].values, df[\"G2\"].values, df[\"G3\"].values])\n",
    "\n",
    "# Step 2: Create group labels: 1 for G1, 2 for G2, 3 for G3\n",
    "groups = np.repeat([1, 2, 3], len(df))\n",
    "\n",
    "# Step 3: Create the repeated time variable (X)\n",
    "X_time = np.tile(df[\"time\"].values, 3).reshape(-1, 1)\n",
    "\n",
    "# Step 4: Create dummy variables for fixed effects (G2, G3 only)\n",
    "group_dummies = pd.get_dummies(groups, drop_first=True)\n",
    "group_dummies.columns = [\"G2\", \"G3\"]\n",
    "\n",
    "# Step 5: Combine time and group fixed effects\n",
    "X_design = np.hstack([X_time, group_dummies.values])\n",
    "\n",
    "# Step 6: Fit model\n",
    "model = LinearRegression()\n",
    "model.fit(X_design, Y)\n",
    "\n",
    "# Step 7: Get coefficient on time (this is the common slope)\n",
    "common_beta = model.coef_[0]\n",
    "print(\"Common linear coefficient (slope on time):\", common_beta)\n"
   ]
  },
  {
   "cell_type": "code",
   "execution_count": 23,
   "metadata": {},
   "outputs": [
    {
     "name": "stdout",
     "output_type": "stream",
     "text": [
      "const    0.078552\n",
      "X        0.009017\n",
      "G2       0.511102\n",
      "G3       0.190480\n",
      "dtype: float64\n"
     ]
    }
   ],
   "source": [
    "\n",
    "\n",
    "# Step 1: Stack Y values from G1, G2, G3\n",
    "Y = np.hstack([df[\"G1\"].values, df[\"G2\"].values, df[\"G3\"].values])\n",
    "\n",
    "# Step 2: Create group labels\n",
    "groups = np.repeat([1, 2, 3], len(df))\n",
    "\n",
    "# Step 3: Create time variable repeated 3 times\n",
    "X = np.tile(df[\"time\"].values, 3).reshape(-1, 1)\n",
    "\n",
    "# Step 4: Create fixed effect dummies (G2 and G3 only)\n",
    "X_fixed_effects = pd.get_dummies(groups, drop_first=True) * 1  # G2, G3\n",
    "\n",
    "# Step 5: Combine time + group dummies into design matrix\n",
    "df_design = pd.DataFrame(\n",
    "    np.hstack((X, X_fixed_effects)),\n",
    "    columns=[\"X\", \"G2\", \"G3\"]\n",
    ")\n",
    "\n",
    "# Step 6: Run OLS\n",
    "results_fixed_effects = sm.OLS(Y, sm.add_constant(df_design)).fit()\n",
    "\n",
    "# Step 7: Print results\n",
    "print(results_fixed_effects.params)\n"
   ]
  },
  {
   "cell_type": "markdown",
   "metadata": {},
   "source": [
    "For questions 3-5:\n",
    "\n",
    "Given a data set, create a bootstrap simulation to try different possibilities. \n",
    "Use the file homework_2.2.csv \n",
    "\n",
    "\n",
    "Question 3:\n",
    "\n",
    "\n",
    "If we were to measure the effect of the treatment simply by subtracting the outcomes of the treated vs. untreated population, which of these is closest to the mean effect? (This is not the recommended way of measuring the mean effect when there are confounders!) \n",
    "\n",
    "Option A\n",
    "12.831\n",
    "\n",
    "Option B\n",
    "5.149\n",
    "\n",
    "Option C\n",
    "8.031\n",
    "\n",
    "Option D\n",
    "2.921\n",
    "\n"
   ]
  },
  {
   "cell_type": "code",
   "execution_count": 25,
   "metadata": {},
   "outputs": [],
   "source": [
    "df2 = pd.read_csv(\"homework_2.2.csv\")"
   ]
  },
  {
   "cell_type": "code",
   "execution_count": 26,
   "metadata": {},
   "outputs": [
    {
     "name": "stdout",
     "output_type": "stream",
     "text": [
      "Naive mean treatment effect: 2.9207172647231907\n"
     ]
    }
   ],
   "source": [
    "# Split treated and untreated based on X\n",
    "treated = df2[df2[\"X\"] == 1][\"Y\"]\n",
    "untreated = df2[df2[\"X\"] == 0][\"Y\"]\n",
    "\n",
    "# Compute naive difference in means\n",
    "naive_effect = treated.mean() - untreated.mean()\n",
    "print(\"Naive mean treatment effect:\", naive_effect)"
   ]
  },
  {
   "cell_type": "markdown",
   "metadata": {},
   "source": [
    "Question 4:\n",
    "\n",
    "If we were to use bootstrap sampling to measure the variance of that effect, again finding the effect using the non-recommended approach, which of these is closest to that variance?\n",
    "\n",
    "0.001822\n",
    "\n",
    "Option B\n",
    "0.1280\n",
    "\n",
    "Option C\n",
    "0.03274 \n",
    "\n",
    "Option D\n",
    "0.002388 \n"
   ]
  },
  {
   "cell_type": "code",
   "execution_count": 29,
   "metadata": {},
   "outputs": [
    {
     "name": "stdout",
     "output_type": "stream",
     "text": [
      "Bootstrap variance of naive treatment effect: 0.031566391496901665\n"
     ]
    }
   ],
   "source": [
    "\n",
    "# Number of bootstrap samples\n",
    "n_bootstrap = 1000\n",
    "\n",
    "# Store bootstrap estimates\n",
    "bootstrap_effects = []\n",
    "\n",
    "for _ in range(n_bootstrap):\n",
    "    # Sample with replacement from the full dataset\n",
    "    sample = df2.sample(frac=1, replace=True)\n",
    "\n",
    "    # Naive effect in this bootstrap sample\n",
    "    treated = sample[sample[\"X\"] == 1][\"Y\"]\n",
    "    untreated = sample[sample[\"X\"] == 0][\"Y\"]\n",
    "\n",
    "    # Defensive check in case a sample has no treated/untreated\n",
    "    if len(treated) > 0 and len(untreated) > 0:\n",
    "        effect = treated.mean() - untreated.mean()\n",
    "        bootstrap_effects.append(effect)\n",
    "\n",
    "# Compute variance of bootstrap estimates\n",
    "bootstrap_variance = np.var(bootstrap_effects, ddof=1)\n",
    "print(\"Bootstrap variance of naive treatment effect:\", bootstrap_variance)\n"
   ]
  },
  {
   "cell_type": "code",
   "execution_count": 28,
   "metadata": {},
   "outputs": [
    {
     "name": "stdout",
     "output_type": "stream",
     "text": [
      "Bootstrap variance of naive treatment effect: 0.03255543091954204\n"
     ]
    }
   ],
   "source": [
    "import numpy as np\n",
    "\n",
    "# Set seed for reproducibility\n",
    "np.random.seed(42)\n",
    "\n",
    "# Run 10,000 bootstrap samples\n",
    "n_bootstrap = 10_000\n",
    "bootstrap_effects = []\n",
    "\n",
    "for _ in range(n_bootstrap):\n",
    "    # Resample the dataset with replacement\n",
    "    sample = df2.sample(frac=1, replace=True)\n",
    "\n",
    "    # Compute naive treatment effect in this sample\n",
    "    treated = sample[sample[\"X\"] == 1][\"Y\"]\n",
    "    untreated = sample[sample[\"X\"] == 0][\"Y\"]\n",
    "\n",
    "    # Avoid division by 0 in rare cases\n",
    "    if len(treated) > 0 and len(untreated) > 0:\n",
    "        effect = treated.mean() - untreated.mean()\n",
    "        bootstrap_effects.append(effect)\n",
    "\n",
    "# Compute sample variance of the bootstrapped effects\n",
    "bootstrap_variance = np.var(bootstrap_effects, ddof=1)\n",
    "print(\"Bootstrap variance of naive treatment effect:\", bootstrap_variance)\n"
   ]
  },
  {
   "cell_type": "code",
   "execution_count": 30,
   "metadata": {},
   "outputs": [
    {
     "name": "stdout",
     "output_type": "stream",
     "text": [
      "Bootstrap variance of naive treatment effect: 0.03210191650988605\n"
     ]
    }
   ],
   "source": [
    "import numpy as np\n",
    "\n",
    "# Set seed for reproducibility\n",
    "np.random.seed(42)\n",
    "\n",
    "# Run 10,000 bootstrap samples\n",
    "n_bootstrap = 100_000\n",
    "bootstrap_effects = []\n",
    "\n",
    "for _ in range(n_bootstrap):\n",
    "    # Resample the dataset with replacement\n",
    "    sample = df2.sample(frac=1, replace=True)\n",
    "\n",
    "    # Compute naive treatment effect in this sample\n",
    "    treated = sample[sample[\"X\"] == 1][\"Y\"]\n",
    "    untreated = sample[sample[\"X\"] == 0][\"Y\"]\n",
    "\n",
    "    # Avoid division by 0 in rare cases\n",
    "    if len(treated) > 0 and len(untreated) > 0:\n",
    "        effect = treated.mean() - untreated.mean()\n",
    "        bootstrap_effects.append(effect)\n",
    "\n",
    "# Compute sample variance of the bootstrapped effects\n",
    "bootstrap_variance = np.var(bootstrap_effects, ddof=1)\n",
    "print(\"Bootstrap variance of naive treatment effect:\", bootstrap_variance)\n"
   ]
  },
  {
   "cell_type": "markdown",
   "metadata": {},
   "source": [
    "Question 5\n",
    "\n",
    "if we ran a linear regression (with intercept) to measure the effect, which of these is closest to the skewness of the effect measured? (Look up skewness online. You can use scipy.stats.skew to compute the skewness of a list of numbers.) \n",
    "\n",
    "Option A\n",
    "0.2315\n",
    "\n",
    "Option B\n",
    "0.04850\n",
    "\n",
    "Option C\n",
    "0.09812\n",
    "\n",
    "Option D\n",
    "0.3223\n",
    "\n"
   ]
  },
  {
   "cell_type": "code",
   "execution_count": 32,
   "metadata": {},
   "outputs": [
    {
     "name": "stdout",
     "output_type": "stream",
     "text": [
      "Skewness of the treatment effect estimates: 0.040745945844387385\n"
     ]
    }
   ],
   "source": [
    "from scipy.stats import skew\n",
    "\n",
    "np.random.seed(42)\n",
    "n_bootstrap = 10_000\n",
    "boot_coef = []\n",
    "\n",
    "for _ in range(n_bootstrap):\n",
    "    # Bootstrap sample\n",
    "    sample = df2.sample(frac=1, replace=True)\n",
    "\n",
    "    # Define X and y for regression\n",
    "    X_boot = sample[[\"X\"]]  # Treatment indicator\n",
    "    y_boot = sample[\"Y\"]\n",
    "\n",
    "    # Fit linear regression with intercept\n",
    "    model = LinearRegression()\n",
    "    model.fit(X_boot, y_boot)\n",
    "\n",
    "    # Store the coefficient on treatment (X)\n",
    "    boot_coef.append(model.coef_[0])\n",
    "\n",
    "# Compute skewness of the bootstrapped treatment effects\n",
    "skewness_value = skew(boot_coef)\n",
    "print(\"Skewness of the treatment effect estimates:\", skewness_value)\n"
   ]
  }
 ],
 "metadata": {
  "kernelspec": {
   "display_name": "Python 3",
   "language": "python",
   "name": "python3"
  },
  "language_info": {
   "codemirror_mode": {
    "name": "ipython",
    "version": 3
   },
   "file_extension": ".py",
   "mimetype": "text/x-python",
   "name": "python",
   "nbconvert_exporter": "python",
   "pygments_lexer": "ipython3",
   "version": "3.12.1"
  }
 },
 "nbformat": 4,
 "nbformat_minor": 4
}
