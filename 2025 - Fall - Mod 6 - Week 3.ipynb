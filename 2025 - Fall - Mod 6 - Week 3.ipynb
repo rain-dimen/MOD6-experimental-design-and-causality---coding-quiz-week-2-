{
 "cells": [
  {
   "cell_type": "markdown",
   "id": "0317932e-575b-46a2-acbb-acbdf4efb48f",
   "metadata": {},
   "source": [
    "# Simulation / bootstrapping and Fixed Effects"
   ]
  },
  {
   "cell_type": "code",
   "execution_count": 1,
   "id": "8f9496be-a516-4371-8ba9-6338b2831614",
   "metadata": {},
   "outputs": [],
   "source": [
    "import numpy as np\n",
    "import scipy\n",
    "import pandas as pd\n",
    "import matplotlib.pyplot as plt\n",
    "import statsmodels.api as sm\n",
    "from sklearn.metrics import root_mean_squared_error\n",
    "from sklearn.linear_model import LinearRegression"
   ]
  },
  {
   "cell_type": "markdown",
   "id": "80ae0f5b-4d4f-40e3-89b5-b00322518a5c",
   "metadata": {},
   "source": [
    "## Fixed Effects"
   ]
  },
  {
   "cell_type": "code",
   "execution_count": 2,
   "id": "07da93d8-a388-4510-b873-e7a584f2714c",
   "metadata": {},
   "outputs": [
    {
     "data": {
      "text/plain": [
       "(array([  9.,  40., 104., 211., 255., 220., 108.,  42.,   7.,   4.]),\n",
       " array([-2.98099301, -2.32330814, -1.66562328, -1.00793842, -0.35025356,\n",
       "         0.3074313 ,  0.96511616,  1.62280102,  2.28048588,  2.93817075,\n",
       "         3.59585561]),\n",
       " <BarContainer object of 10 artists>)"
      ]
     },
     "execution_count": 2,
     "metadata": {},
     "output_type": "execute_result"
    },
    {
     "data": {
      "image/png": "[encoded data removed]",
      "text/plain": [
       "<Figure size 640x480 with 1 Axes>"
      ]
     },
     "metadata": {},
     "output_type": "display_data"
    }
   ],
   "source": [
    "arr = np.random.normal(10, 5, 1000)\n",
    "z_score = (arr - arr.mean())/arr.std()\n",
    "plt.hist(z_score)"
   ]
  },
  {
   "cell_type": "markdown",
   "id": "2f25ca8c-8215-43c9-a344-fac2ecae1680",
   "metadata": {},
   "source": [
    "### Three hospitals: 1, 2, 3\n",
    "### X = Z-score of drug administration\n",
    "### Y = effect of drug (increase in white blood cell count)"
   ]
  },
  {
   "cell_type": "code",
   "execution_count": 3,
   "id": "ef18b8f6-5c8c-4aa0-b3ce-3eea0e2b0b61",
   "metadata": {},
   "outputs": [],
   "source": [
    "np.random.seed(0)\n",
    "num = 1000\n",
    "X1 = np.random.normal(0, 1, (num,)) # scipy.stats.norm.rvs - alternative\n",
    "X2 = np.random.normal(0, 1, (num,))\n",
    "X3 = np.random.normal(0, 1, (num,))\n",
    "Y1 = 3 * X1 + 5 + np.random.normal(0, 1, (num,))\n",
    "Y2 = 3 * X2 + 10 + np.random.normal(0, 1, (num,))\n",
    "Y3 = 3 * X3 + 15 + np.random.normal(0, 1, (num,))"
   ]
  },
  {
   "cell_type": "markdown",
   "id": "3966dbac-f512-49ee-bebc-1a0f1aae92b7",
   "metadata": {},
   "source": [
    "### $Y_1 = 3 \\cdot X_1 + 5 + \\epsilon_{Y1}$"
   ]
  },
  {
   "cell_type": "code",
   "execution_count": 4,
   "id": "b1298025-9739-4fe7-95b5-86b6906aa203",
   "metadata": {},
   "outputs": [
    {
     "name": "stdout",
     "output_type": "stream",
     "text": [
      "[3.00816248]\n",
      "4.981426810419045\n"
     ]
    }
   ],
   "source": [
    "model = LinearRegression()\n",
    "model.fit(X1.reshape(-1, 1), Y1)\n",
    "print(model.coef_)\n",
    "print(model.intercept_)"
   ]
  },
  {
   "cell_type": "code",
   "execution_count": 5,
   "id": "6b3e8b3b-f3d7-44e0-99b8-a5eef640216f",
   "metadata": {},
   "outputs": [
    {
     "name": "stdout",
     "output_type": "stream",
     "text": [
      "[3.00816248]\n",
      "4.981426810419045\n"
     ]
    }
   ],
   "source": [
    "model = LinearRegression()\n",
    "model.fit(X1.reshape(-1, 1), Y1)\n",
    "print(model.coef_)\n",
    "print(model.intercept_)"
   ]
  },
  {
   "cell_type": "code",
   "execution_count": 6,
   "id": "dcfbade6-f087-41c6-ba51-ae60a71d3124",
   "metadata": {},
   "outputs": [
    {
     "data": {
      "text/plain": [
       "array([2.77724269])"
      ]
     },
     "execution_count": 6,
     "metadata": {},
     "output_type": "execute_result"
    }
   ],
   "source": [
    "results = sm.OLS(Y1, X1).fit()\n",
    "results.params"
   ]
  },
  {
   "cell_type": "code",
   "execution_count": 7,
   "id": "6cfc8317-d1f7-4b53-aa70-b4be6b654c41",
   "metadata": {},
   "outputs": [],
   "source": [
    "results = sm.OLS(Y1, sm.add_constant(X1)).fit()"
   ]
  },
  {
   "cell_type": "code",
   "execution_count": 8,
   "id": "f9bd0131-5833-4b51-93df-173cae61e2fb",
   "metadata": {},
   "outputs": [
    {
     "data": {
      "text/plain": [
       "array([4.98142681, 3.00816248])"
      ]
     },
     "execution_count": 8,
     "metadata": {},
     "output_type": "execute_result"
    }
   ],
   "source": [
    "results.params"
   ]
  },
  {
   "cell_type": "code",
   "execution_count": 9,
   "id": "59ccdbdc-d323-4e96-8775-8aa1bb02f349",
   "metadata": {},
   "outputs": [
    {
     "data": {
      "text/plain": [
       "array([0.03218777, 0.0325764 ])"
      ]
     },
     "execution_count": 9,
     "metadata": {},
     "output_type": "execute_result"
    }
   ],
   "source": [
    "results.bse"
   ]
  },
  {
   "cell_type": "code",
   "execution_count": 10,
   "id": "d3b4b04e-10ff-4e4b-b374-e964244fbad5",
   "metadata": {},
   "outputs": [
    {
     "data": {
      "text/plain": [
       "0.8952231076208007"
      ]
     },
     "execution_count": 10,
     "metadata": {},
     "output_type": "execute_result"
    }
   ],
   "source": [
    "results.rsquared"
   ]
  },
  {
   "cell_type": "code",
   "execution_count": 11,
   "id": "24096f0e-178a-49a0-8623-8b0d7df9c06f",
   "metadata": {},
   "outputs": [
    {
     "data": {
      "text/plain": [
       "0.8952231076208008"
      ]
     },
     "execution_count": 11,
     "metadata": {},
     "output_type": "execute_result"
    }
   ],
   "source": [
    "1 - np.var(Y1 - results.predict(sm.add_constant(X1))) / np.var(Y1)"
   ]
  },
  {
   "cell_type": "code",
   "execution_count": 12,
   "id": "1530748e-370f-4796-a1c4-5704f84fa45a",
   "metadata": {},
   "outputs": [
    {
     "data": {
      "text/plain": [
       "0.8952231076208008"
      ]
     },
     "execution_count": 12,
     "metadata": {},
     "output_type": "execute_result"
    }
   ],
   "source": [
    "1 - np.var(results.resid) / Y1.var()"
   ]
  },
  {
   "cell_type": "code",
   "execution_count": 13,
   "id": "943cf092-46ff-49ff-9b2c-0c1c419e43f7",
   "metadata": {},
   "outputs": [
    {
     "data": {
      "text/plain": [
       "(array([  3.,   6.,  64., 173., 281., 255., 150.,  54.,  11.,   3.]),\n",
       " array([-3.72518583, -2.97114515, -2.21710447, -1.46306379, -0.7090231 ,\n",
       "         0.04501758,  0.79905826,  1.55309895,  2.30713963,  3.06118031,\n",
       "         3.81522099]),\n",
       " <BarContainer object of 10 artists>)"
      ]
     },
     "execution_count": 13,
     "metadata": {},
     "output_type": "execute_result"
    },
    {
     "data": {
      "image/png": "[encoded data removed]",
      "text/plain": [
       "<Figure size 640x480 with 1 Axes>"
      ]
     },
     "metadata": {},
     "output_type": "display_data"
    }
   ],
   "source": [
    "plt.hist(results.resid)"
   ]
  },
  {
   "cell_type": "code",
   "execution_count": 14,
   "id": "c2911a28-d7b7-4d63-9ca8-9f2d8bc564aa",
   "metadata": {},
   "outputs": [
    {
     "data": {
      "text/plain": [
       "1.01578114653031"
      ]
     },
     "execution_count": 14,
     "metadata": {},
     "output_type": "execute_result"
    }
   ],
   "source": [
    "np.std(Y1 - results.predict(sm.add_constant(X1)))"
   ]
  },
  {
   "cell_type": "code",
   "execution_count": 15,
   "id": "f0a44483-d8cc-428d-96a2-1e99760a4656",
   "metadata": {},
   "outputs": [
    {
     "data": {
      "text/plain": [
       "1.01578114653031"
      ]
     },
     "execution_count": 15,
     "metadata": {},
     "output_type": "execute_result"
    }
   ],
   "source": [
    "np.std(results.resid)"
   ]
  },
  {
   "cell_type": "code",
   "execution_count": 16,
   "id": "37de30e2-d104-46cf-b693-5a2d8f3e20df",
   "metadata": {},
   "outputs": [
    {
     "data": {
      "text/plain": [
       "1.0157811465303097"
      ]
     },
     "execution_count": 16,
     "metadata": {},
     "output_type": "execute_result"
    }
   ],
   "source": [
    "root_mean_squared_error(Y1, results.predict(sm.add_constant(X1))) # Another way"
   ]
  },
  {
   "cell_type": "code",
   "execution_count": 17,
   "id": "996036ae-fc4d-413d-b68c-d341c67075e6",
   "metadata": {},
   "outputs": [
    {
     "data": {
      "text/plain": [
       "<matplotlib.collections.PathCollection at 0x178198d10>"
      ]
     },
     "execution_count": 17,
     "metadata": {},
     "output_type": "execute_result"
    },
    {
     "data": {
      "image/png": "[encoded data removed]",
      "text/plain": [
       "<Figure size 640x480 with 1 Axes>"
      ]
     },
     "metadata": {},
     "output_type": "display_data"
    }
   ],
   "source": [
    "plt.scatter(results.predict(sm.add_constant(X1)), Y1)"
   ]
  },
  {
   "cell_type": "code",
   "execution_count": 18,
   "id": "1ba74be6-4e9a-4059-afb6-54f473c2bee0",
   "metadata": {},
   "outputs": [
    {
     "data": {
      "text/plain": [
       "array([9.99607883, 2.97648875])"
      ]
     },
     "execution_count": 18,
     "metadata": {},
     "output_type": "execute_result"
    }
   ],
   "source": [
    "Y = np.concatenate((Y1, Y2, Y3))\n",
    "X = np.concatenate((X1, X2, X3))\n",
    "results_combined = sm.OLS(Y, sm.add_constant(X)).fit()\n",
    "results_combined.params # note that params do not match group 1, but likely will match group 2"
   ]
  },
  {
   "cell_type": "code",
   "execution_count": 19,
   "id": "ecdfb78b-ee03-4951-8d32-0bce015cbd36",
   "metadata": {},
   "outputs": [
    {
     "data": {
      "text/plain": [
       "array([0.07679134, 0.07910939])"
      ]
     },
     "execution_count": 19,
     "metadata": {},
     "output_type": "execute_result"
    }
   ],
   "source": [
    "results_combined.bse"
   ]
  },
  {
   "cell_type": "code",
   "execution_count": 20,
   "id": "c55dd7be-4b96-4bb3-bfb2-8c45c2f91209",
   "metadata": {},
   "outputs": [
    {
     "data": {
      "text/plain": [
       "0.3207418838625441"
      ]
     },
     "execution_count": 20,
     "metadata": {},
     "output_type": "execute_result"
    }
   ],
   "source": [
    "results_combined.rsquared # rsquared is _worse_ than for group 1 alone"
   ]
  },
  {
   "cell_type": "code",
   "execution_count": 21,
   "id": "b2054ec2-5eba-48fd-ba1e-dd699b28763d",
   "metadata": {},
   "outputs": [
    {
     "data": {
      "text/plain": [
       "4.202929927077389"
      ]
     },
     "execution_count": 21,
     "metadata": {},
     "output_type": "execute_result"
    }
   ],
   "source": [
    "np.std(results_combined.resid)"
   ]
  },
  {
   "cell_type": "code",
   "execution_count": 22,
   "id": "85ba3643-31f5-4164-9e40-f954e4e07d50",
   "metadata": {},
   "outputs": [
    {
     "data": {
      "text/plain": [
       "4.202929927077389"
      ]
     },
     "execution_count": 22,
     "metadata": {},
     "output_type": "execute_result"
    }
   ],
   "source": [
    "root_mean_squared_error(Y, results_combined.predict(sm.add_constant(X))) # another way"
   ]
  },
  {
   "cell_type": "code",
   "execution_count": 23,
   "id": "da5845dd-58f1-43fd-9f12-5d449473de32",
   "metadata": {},
   "outputs": [
    {
     "data": {
      "text/plain": [
       "<matplotlib.collections.PathCollection at 0x178d693a0>"
      ]
     },
     "execution_count": 23,
     "metadata": {},
     "output_type": "execute_result"
    },
    {
     "data": {
      "image/png": "[encoded data removed]",
      "text/plain": [
       "<Figure size 640x480 with 1 Axes>"
      ]
     },
     "metadata": {},
     "output_type": "display_data"
    }
   ],
   "source": [
    "plt.scatter(results_combined.predict(sm.add_constant(X)), Y)"
   ]
  },
  {
   "cell_type": "code",
   "execution_count": 24,
   "id": "e0a95ca7-2d35-4e75-87cc-61b2be1ddeea",
   "metadata": {},
   "outputs": [
    {
     "data": {
      "text/plain": [
       "1000"
      ]
     },
     "execution_count": 24,
     "metadata": {},
     "output_type": "execute_result"
    }
   ],
   "source": [
    "num"
   ]
  },
  {
   "cell_type": "code",
   "execution_count": 25,
   "id": "2aa0b48d-0d61-46e2-ac9c-24236a17ee79",
   "metadata": {},
   "outputs": [
    {
     "data": {
      "text/plain": [
       "X      2.986359\n",
       "G1     4.980440\n",
       "G2    10.028366\n",
       "G3    14.980248\n",
       "dtype: float64"
      ]
     },
     "execution_count": 25,
     "metadata": {},
     "output_type": "execute_result"
    }
   ],
   "source": [
    "groups = np.repeat([1, 2, 3], num)\n",
    "X_fixed_effects = pd.get_dummies(groups) * 1\n",
    "X_reshaped = X.reshape(-1, 1)\n",
    "df_design = pd.DataFrame(np.hstack((X_reshaped, X_fixed_effects)), columns = [\"X\", \"G1\", \"G2\", \"G3\"])\n",
    "results_fixed_effects = sm.OLS(Y, df_design).fit()\n",
    "results_fixed_effects.params"
   ]
  },
  {
   "cell_type": "code",
   "execution_count": null,
   "id": "f98b1f62-8373-4ea5-a1fe-9865bf46a378",
   "metadata": {},
   "outputs": [],
   "source": [
    "# G1 = const (5)\n",
    "# G2 = const (5) + G2 (5) = 10\n",
    "# G3 = const (5) + G3 (10) = 15"
   ]
  },
  {
   "cell_type": "code",
   "execution_count": 89,
   "id": "0179205e-2af8-49d2-ba53-ca483f23d403",
   "metadata": {},
   "outputs": [],
   "source": [
    "groups = np.repeat([1, 2, 3], num)\n",
    "X_fixed_effects = pd.get_dummies(groups, drop_first=True)\n",
    "X_design = np.hstack((X.reshape(-1, 1), X_fixed_effects))\n",
    "df_design = pd.DataFrame(X_design, columns = [\"X\", \"Group_2\", \"Group_3\"])\n",
    "results_fixed_effects = sm.OLS(Y, sm.add_constant(df_design)).fit()"
   ]
  },
  {
   "cell_type": "code",
   "execution_count": 170,
   "id": "5aa065f5-bb9a-47d9-95c1-a5ad2d316e78",
   "metadata": {},
   "outputs": [
    {
     "data": {
      "text/plain": [
       "X      2.986359\n",
       "G1     4.980440\n",
       "G2    10.028366\n",
       "G3    14.980248\n",
       "dtype: float64"
      ]
     },
     "execution_count": 170,
     "metadata": {},
     "output_type": "execute_result"
    }
   ],
   "source": [
    "results_fixed_effects.params"
   ]
  },
  {
   "cell_type": "code",
   "execution_count": 171,
   "id": "70f99f49-2f71-4163-9269-287725d6604f",
   "metadata": {},
   "outputs": [
    {
     "data": {
      "text/plain": [
       "X     0.018820\n",
       "G1    0.031626\n",
       "G2    0.031616\n",
       "G3    0.031630\n",
       "dtype: float64"
      ]
     },
     "execution_count": 171,
     "metadata": {},
     "output_type": "execute_result"
    }
   ],
   "source": [
    "results_fixed_effects.bse"
   ]
  },
  {
   "cell_type": "code",
   "execution_count": 94,
   "id": "a1b89c4d-b2cd-4473-87ba-6bce1d79ba30",
   "metadata": {},
   "outputs": [
    {
     "data": {
      "text/plain": [
       "0.9616172265379285"
      ]
     },
     "execution_count": 94,
     "metadata": {},
     "output_type": "execute_result"
    }
   ],
   "source": [
    "results_fixed_effects.rsquared"
   ]
  },
  {
   "cell_type": "code",
   "execution_count": 95,
   "id": "23947627-f515-479d-9fba-33a1c7bee4e3",
   "metadata": {},
   "outputs": [
    {
     "data": {
      "text/plain": [
       "0.9990860787793621"
      ]
     },
     "execution_count": 95,
     "metadata": {},
     "output_type": "execute_result"
    }
   ],
   "source": [
    "np.std(results_fixed_effects.resid)"
   ]
  },
  {
   "cell_type": "code",
   "execution_count": 96,
   "id": "a18487ef-b608-4872-93e0-6742dd0762a0",
   "metadata": {},
   "outputs": [
    {
     "data": {
      "text/plain": [
       "0.9990860787793621"
      ]
     },
     "execution_count": 96,
     "metadata": {},
     "output_type": "execute_result"
    }
   ],
   "source": [
    "np.std(Y - results_fixed_effects.predict(sm.add_constant(df_design)))"
   ]
  },
  {
   "cell_type": "code",
   "execution_count": 97,
   "id": "1158ff89-52dd-4aca-8b0f-697cbc1871db",
   "metadata": {},
   "outputs": [
    {
     "data": {
      "text/plain": [
       "0.9990860787793621"
      ]
     },
     "execution_count": 97,
     "metadata": {},
     "output_type": "execute_result"
    }
   ],
   "source": [
    "root_mean_squared_error(Y, results_fixed_effects.predict(sm.add_constant(df_design)))"
   ]
  },
  {
   "cell_type": "code",
   "execution_count": 97,
   "id": "797460ed-d3a1-49f9-8533-4f8696e350ac",
   "metadata": {
    "scrolled": true
   },
   "outputs": [
    {
     "data": {
      "text/plain": [
       "<matplotlib.collections.PathCollection at 0x173468140>"
      ]
     },
     "execution_count": 97,
     "metadata": {},
     "output_type": "execute_result"
    },
    {
     "data": {
      "image/png": "[encoded data removed]",
      "text/plain": [
       "<Figure size 640x480 with 1 Axes>"
      ]
     },
     "metadata": {},
     "output_type": "display_data"
    }
   ],
   "source": [
    "plt.scatter(results_fixed_effects.predict(sm.add_constant(df_design)), Y)"
   ]
  },
  {
   "cell_type": "code",
   "execution_count": 174,
   "id": "c0601885-499b-4c9a-8526-4651f6fd6e2c",
   "metadata": {},
   "outputs": [
    {
     "data": {
      "text/plain": [
       "(4.845287280932355, 10.069031513256334, 14.827261039210718)"
      ]
     },
     "execution_count": 174,
     "metadata": {},
     "output_type": "execute_result"
    }
   ],
   "source": [
    "Y1 - <Y1> = 3 * (X1 - <X1>) + error\n",
    "Y2 - <Y2> = 3 * (X2 - <X2>) + error\n",
    "<Y1> = 3 * <X1> + 5\n",
    "Y2 = 3 * X2 + 10 + np.random.normal(0, 1, (num,))\n",
    "Y3 = 3 * X3 + 15 + np.random.normal(0, 1, (num,))"
   ]
  },
  {
   "cell_type": "code",
   "execution_count": 179,
   "id": "f00efb77-249a-4c7b-9535-9bb8aafbdea2",
   "metadata": {},
   "outputs": [],
   "source": [
    "X = np.concatenate((X1 - X1.mean(), X2 - X2.mean(), X3 - X3.mean()))\n",
    "Y = np.concatenate((Y1 - Y1.mean(), Y2 - Y2.mean(), Y3 - Y3.mean()))\n",
    "results_demeaned = sm.OLS(Y, X).fit()"
   ]
  },
  {
   "cell_type": "code",
   "execution_count": 180,
   "id": "bd41cd12-b725-4873-9e59-0c1f32765315",
   "metadata": {},
   "outputs": [
    {
     "data": {
      "text/plain": [
       "array([2.986359])"
      ]
     },
     "execution_count": 180,
     "metadata": {},
     "output_type": "execute_result"
    }
   ],
   "source": [
    "results_demeaned.params"
   ]
  },
  {
   "cell_type": "code",
   "execution_count": 182,
   "id": "a0655b01-3963-4dfa-9089-79c78cc87584",
   "metadata": {},
   "outputs": [
    {
     "data": {
      "text/plain": [
       "<matplotlib.lines.Line2D at 0x178e5f7a0>"
      ]
     },
     "execution_count": 182,
     "metadata": {},
     "output_type": "execute_result"
    },
    {
     "data": {
      "image/png": "[encoded data removed]",
      "text/plain": [
       "<Figure size 640x480 with 1 Axes>"
      ]
     },
     "metadata": {},
     "output_type": "display_data"
    }
   ],
   "source": [
    "plt.scatter(X1 - X1.mean(), Y1)\n",
    "plt.scatter(X2 - X2.mean(), Y2, color = \"orange\")\n",
    "plt.scatter(X3 - X3.mean(), Y3, color = \"green\")\n",
    "plt.axvline(0)\n",
    "plt.axhline(0)"
   ]
  },
  {
   "cell_type": "code",
   "execution_count": 183,
   "id": "ed7e3581-6c30-4065-bc57-bb519c6cb795",
   "metadata": {},
   "outputs": [
    {
     "data": {
      "text/plain": [
       "array([0.01881066])"
      ]
     },
     "execution_count": 183,
     "metadata": {},
     "output_type": "execute_result"
    }
   ],
   "source": [
    "results_demeaned.bse"
   ]
  },
  {
   "cell_type": "code",
   "execution_count": 113,
   "id": "0244879c-7bcb-47c9-bd43-69d7b144923e",
   "metadata": {},
   "outputs": [
    {
     "data": {
      "text/plain": [
       "0.8936652558014316"
      ]
     },
     "execution_count": 113,
     "metadata": {},
     "output_type": "execute_result"
    }
   ],
   "source": [
    "results_demeaned.rsquared"
   ]
  },
  {
   "cell_type": "code",
   "execution_count": 122,
   "id": "15cdd172-d282-450e-85c4-25cdfc897dec",
   "metadata": {},
   "outputs": [
    {
     "data": {
      "text/plain": [
       "0.9990860787793621"
      ]
     },
     "execution_count": 122,
     "metadata": {},
     "output_type": "execute_result"
    }
   ],
   "source": [
    "np.std(results_demeaned.resid)"
   ]
  },
  {
   "cell_type": "code",
   "execution_count": 123,
   "id": "254ed3b4-4780-4e06-91d3-c402cb5a52b0",
   "metadata": {},
   "outputs": [
    {
     "data": {
      "text/plain": [
       "0.9990860787793621"
      ]
     },
     "execution_count": 123,
     "metadata": {},
     "output_type": "execute_result"
    }
   ],
   "source": [
    "root_mean_squared_error(Y, results_demeaned.predict(X))"
   ]
  },
  {
   "cell_type": "markdown",
   "id": "caac120c-65c2-443d-8b11-84967361b820",
   "metadata": {},
   "source": [
    "# Simulation"
   ]
  },
  {
   "cell_type": "code",
   "execution_count": 184,
   "id": "bc6e28b3-b230-4c9d-9840-ca4307fa1b50",
   "metadata": {},
   "outputs": [
    {
     "data": {
      "text/plain": [
       "0.018680493613602415"
      ]
     },
     "execution_count": 184,
     "metadata": {},
     "output_type": "execute_result"
    }
   ],
   "source": [
    "# Suppose we want to know what happens if we do this simulation many times\n",
    "np.random.seed(0)\n",
    "num_iter = 1000\n",
    "beta_1_list = list()\n",
    "se_list = list()\n",
    "for n in range(num_iter):\n",
    "    num = 1000\n",
    "    X1 = scipy.stats.norm.rvs(0, 1, (num,))\n",
    "    X2 = scipy.stats.norm.rvs(0, 1, (num,))\n",
    "    X3 = scipy.stats.norm.rvs(0, 1, (num,))\n",
    "    Y1 = 3 * X1 + 5 + scipy.stats.norm.rvs(0, 1, (num,))\n",
    "    Y2 = 3 * X2 + 10 + scipy.stats.norm.rvs(0, 1, (num,))\n",
    "    Y3 = 3 * X3 + 15 + scipy.stats.norm.rvs(0, 1, (num,))\n",
    "    X = np.hstack((X1 - X1.mean(), X2 - X2.mean(), X3 - X3.mean())) # demean the data\n",
    "    Y = np.hstack((Y1 - Y1.mean(), Y2 - Y2.mean(), Y3 - Y3.mean()))\n",
    "    results_demeaned = sm.OLS(Y, X).fit()\n",
    "    beta_1_list.append(results_demeaned.params[0])\n",
    "    se_list.append(results_demeaned.bse[0])\n",
    "\n",
    "np.std(beta_1_list)"
   ]
  },
  {
   "cell_type": "code",
   "execution_count": 185,
   "id": "ebc44da0-b0af-419d-8c98-c881ec9944d6",
   "metadata": {},
   "outputs": [
    {
     "data": {
      "text/plain": [
       "0.01826263668136621"
      ]
     },
     "execution_count": 185,
     "metadata": {},
     "output_type": "execute_result"
    }
   ],
   "source": [
    "np.mean(se_list)"
   ]
  },
  {
   "cell_type": "code",
   "execution_count": 137,
   "id": "b20fcd23-6475-49dc-bc13-94cd3efddaf2",
   "metadata": {},
   "outputs": [
    {
     "data": {
      "text/plain": [
       "3.0011668893443586"
      ]
     },
     "execution_count": 137,
     "metadata": {},
     "output_type": "execute_result"
    }
   ],
   "source": [
    "np.mean(beta_1_list)"
   ]
  },
  {
   "cell_type": "code",
   "execution_count": 127,
   "id": "1b1b9824-bff9-4717-9f98-e3e0dcb70cb3",
   "metadata": {},
   "outputs": [
    {
     "data": {
      "text/plain": [
       "(array([  5.,   6.,   6.,  23.,  33.,  46.,  55.,  91., 100., 112., 127.,\n",
       "        111.,  90.,  76.,  57.,  30.,  14.,  10.,   6.,   2.]),\n",
       " array([2.94523997, 2.95071436, 2.95618875, 2.96166314, 2.96713753,\n",
       "        2.97261192, 2.97808631, 2.9835607 , 2.98903509, 2.99450948,\n",
       "        2.99998387, 3.00545826, 3.01093266, 3.01640705, 3.02188144,\n",
       "        3.02735583, 3.03283022, 3.03830461, 3.043779  , 3.04925339,\n",
       "        3.05472778]),\n",
       " <BarContainer object of 20 artists>)"
      ]
     },
     "execution_count": 127,
     "metadata": {},
     "output_type": "execute_result"
    },
    {
     "data": {
      "image/png": "[encoded data removed]",
      "text/plain": [
       "<Figure size 640x480 with 1 Axes>"
      ]
     },
     "metadata": {},
     "output_type": "display_data"
    }
   ],
   "source": [
    "plt.hist(beta_1_list, bins = 20)"
   ]
  },
  {
   "cell_type": "code",
   "execution_count": null,
   "id": "8314227f-b1f1-4021-ab74-cf6d848e9fe8",
   "metadata": {},
   "outputs": [],
   "source": []
  }
 ],
 "metadata": {
  "kernelspec": {
   "display_name": "Python 3 (ipykernel)",
   "language": "python",
   "name": "python3"
  },
  "language_info": {
   "codemirror_mode": {
    "name": "ipython",
    "version": 3
   },
   "file_extension": ".py",
   "mimetype": "text/x-python",
   "name": "python",
   "nbconvert_exporter": "python",
   "pygments_lexer": "ipython3",
   "version": "3.12.0"
  }
 },
 "nbformat": 4,
 "nbformat_minor": 5
}
